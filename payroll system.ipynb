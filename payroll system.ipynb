{
 "cells": [
  {
   "cell_type": "code",
   "execution_count": 1,
   "id": "eb94eacb",
   "metadata": {},
   "outputs": [],
   "source": [
    "from datetime import datetime  # To add date in payslip and history\n"
   ]
  },
  {
   "cell_type": "markdown",
   "id": "020a60ce",
   "metadata": {},
   "source": [
    "Add employees, base salary, bonus, deductions AND Calculate net salary"
   ]
  },
  {
   "cell_type": "code",
   "execution_count": 2,
   "id": "2d6df2bd",
   "metadata": {},
   "outputs": [],
   "source": [
    "# This class holds details about a single employee and calculates net salary.\n",
    "class Employee:\n",
    "    def __init__(self, emp_id, name, base_salary, bonus, deductions):\n",
    "        self.emp_id = emp_id\n",
    "        self.name = name\n",
    "        self.base_salary = base_salary\n",
    "        self.bonus = bonus\n",
    "        self.deductions = deductions  \n",
    "        \n",
    "    def calculate_net_salary(self):\n",
    "        net = self.base_salary + self.bonus - self.deductions\n",
    "        return net\n",
    "\n"
   ]
  },
  {
   "cell_type": "markdown",
   "id": "01ed5c58",
   "metadata": {},
   "source": [
    "Generate monthly payslip in text file AND  history of payments"
   ]
  },
  {
   "cell_type": "code",
   "execution_count": 3,
   "id": "b0b15cc4",
   "metadata": {},
   "outputs": [],
   "source": [
    "# This class manages multiple employees and handles payslip generation and payment history.\n",
    "class PayrollSystem:\n",
    "    def __init__(self):\n",
    "        self.employees = {}\n",
    "\n",
    "    def add_employee(self, emp_id, name, base_salary, bonus, deductions):\n",
    "        # Create an employee object and store in the dictionary \n",
    "\n",
    "        employee = Employee(emp_id, name, base_salary, bonus, deductions)\n",
    "        self.employees[emp_id] = employee\n",
    "        print(f\"Employee '{name}' added successfully.\")\n",
    "\n",
    "    def generate_payslip(self, emp_id):\n",
    "        if emp_id not in self.employees:\n",
    "            print(\"Employee not found.\")\n",
    "            return\n",
    "\n",
    "        emp = self.employees[emp_id]\n",
    "        net_salary = emp.calculate_net_salary()\n",
    "        today = datetime.now().strftime(\"%Y-%m-%d\")\n",
    "        filename = f\"{emp.name}_Payslip_{today}.txt\"\n",
    "\n",
    "\n",
    "    # Create and save payslip\n",
    "        with open(filename, \"w\") as file:\n",
    "            file.write(\"Name: \" + emp.name + \"\\n\")\n",
    "            file.write(\"ID: \" + str(emp.emp_id) + \"\\n\")\n",
    "            file.write(\"Date: \" + today + \"\\n\")\n",
    "            file.write(\"Base Salary: \" + str(emp.base_salary) + \"\\n\")\n",
    "            file.write(\"Bonus: \" + str(emp.bonus) + \"\\n\")\n",
    "            file.write(\"Deductions: \" + str(emp.deductions) + \"\\n\")\n",
    "            file.write(\"Net Salary: \" + str(net_salary) + \"\\n\")\n",
    "\n",
    " # Update payment history\n",
    "\n",
    "        with open(\"payment_history.txt\", \"a\") as history_file:\n",
    "            history_file.write(f\"{today} - {emp.name} (ID: {emp.emp_id}) - Net Salary: {net_salary}\\n\")\n",
    "\n",
    "        print(\"Payslip saved:\", filename)\n",
    "\n"
   ]
  },
  {
   "cell_type": "code",
   "execution_count": 4,
   "id": "33954936",
   "metadata": {},
   "outputs": [],
   "source": [
    "# Let's create the payroll system\n",
    "payroll = PayrollSystem()\n"
   ]
  },
  {
   "cell_type": "code",
   "execution_count": 5,
   "id": "85c8e2d4",
   "metadata": {},
   "outputs": [
    {
     "name": "stdout",
     "output_type": "stream",
     "text": [
      "Employee 'Ganesh' added successfully.\n",
      "Employee 'Mahesh' added successfully.\n",
      "Employee 'shiva' added successfully.\n",
      "Employee 'nani' added successfully.\n"
     ]
    }
   ],
   "source": [
    "# Add employees with their salary details\n",
    "payroll.add_employee(101,\"Ganesh\",30000,5000,2000)\n",
    "payroll.add_employee(102, \"Mahesh\", 28000, 4000, 1000) \n",
    "payroll.add_employee(103,\"shiva\",25000,5000,3000) \n",
    "payroll.add_employee(104,\"nani\",32000,3000,2000)\n",
    "\n"
   ]
  },
  {
   "cell_type": "code",
   "execution_count": 6,
   "id": "5b47c48f",
   "metadata": {},
   "outputs": [
    {
     "name": "stdout",
     "output_type": "stream",
     "text": [
      "Payslip saved: Ganesh_Payslip_2025-04-10.txt\n",
      "Payslip saved: Mahesh_Payslip_2025-04-10.txt\n",
      "Payslip saved: shiva_Payslip_2025-04-10.txt\n",
      "Payslip saved: nani_Payslip_2025-04-10.txt\n",
      "2025-04-10 - Ganesh (ID: 101) - Net Salary: 33000\n",
      "2025-04-10 - Mahesh (ID: 102) - Net Salary: 31000\n",
      "2025-04-10 - Ganesh (ID: 101) - Net Salary: 33000\n",
      "2025-04-10 - Mahesh (ID: 102) - Net Salary: 31000\n",
      "2025-04-10 - shiva (ID: 103) - Net Salary: 27000\n",
      "2025-04-10 - nani (ID: 104) - Net Salary: 33000\n",
      "2025-04-10 - Ganesh (ID: 101) - Net Salary: 33000\n",
      "2025-04-10 - Mahesh (ID: 102) - Net Salary: 31000\n",
      "2025-04-10 - shiva (ID: 103) - Net Salary: 27000\n",
      "2025-04-10 - nani (ID: 104) - Net Salary: 33000\n",
      "2025-04-10 - Ganesh (ID: 101) - Net Salary: 33000\n",
      "2025-04-10 - Mahesh (ID: 102) - Net Salary: 31000\n",
      "2025-04-10 - shiva (ID: 103) - Net Salary: 27000\n",
      "2025-04-10 - nani (ID: 104) - Net Salary: 33000\n",
      "2025-04-10 - Ganesh (ID: 101) - Net Salary: 33000\n",
      "2025-04-10 - Mahesh (ID: 102) - Net Salary: 31000\n",
      "2025-04-10 - shiva (ID: 103) - Net Salary: 27000\n",
      "2025-04-10 - nani (ID: 104) - Net Salary: 33000\n",
      "\n"
     ]
    }
   ],
   "source": [
    "payroll.generate_payslip(101)\n",
    "payroll.generate_payslip(102) \n",
    "payroll.generate_payslip(103)\n",
    "payroll.generate_payslip(104)\n",
    "\n",
    "# View payment history safely\n",
    "try:\n",
    "    with open(\"payment_history.txt\", \"r\", encoding=\"utf-8\") as file:\n",
    "        print(file.read())\n",
    "except FileNotFoundError:\n",
    "    print(\"No payment history found yet. Generate a payslip first.\")\n"
   ]
  },
  {
   "cell_type": "code",
   "execution_count": 7,
   "id": "0c770aa4",
   "metadata": {},
   "outputs": [
    {
     "name": "stdout",
     "output_type": "stream",
     "text": [
      "2025-04-10 - Ganesh (ID: 101) - Net Salary: 33000\n",
      "2025-04-10 - Mahesh (ID: 102) - Net Salary: 31000\n",
      "2025-04-10 - Ganesh (ID: 101) - Net Salary: 33000\n",
      "2025-04-10 - Mahesh (ID: 102) - Net Salary: 31000\n",
      "2025-04-10 - shiva (ID: 103) - Net Salary: 27000\n",
      "2025-04-10 - nani (ID: 104) - Net Salary: 33000\n",
      "2025-04-10 - Ganesh (ID: 101) - Net Salary: 33000\n",
      "2025-04-10 - Mahesh (ID: 102) - Net Salary: 31000\n",
      "2025-04-10 - shiva (ID: 103) - Net Salary: 27000\n",
      "2025-04-10 - nani (ID: 104) - Net Salary: 33000\n",
      "2025-04-10 - Ganesh (ID: 101) - Net Salary: 33000\n",
      "2025-04-10 - Mahesh (ID: 102) - Net Salary: 31000\n",
      "2025-04-10 - shiva (ID: 103) - Net Salary: 27000\n",
      "2025-04-10 - nani (ID: 104) - Net Salary: 33000\n",
      "2025-04-10 - Ganesh (ID: 101) - Net Salary: 33000\n",
      "2025-04-10 - Mahesh (ID: 102) - Net Salary: 31000\n",
      "2025-04-10 - shiva (ID: 103) - Net Salary: 27000\n",
      "2025-04-10 - nani (ID: 104) - Net Salary: 33000\n",
      "\n"
     ]
    }
   ],
   "source": [
    "# Let's see the payment history\n",
    "with open(\"payment_history.txt\", \"r\") as file:\n",
    "    print(file.read())\n"
   ]
  }
 ],
 "metadata": {
  "kernelspec": {
   "display_name": "Python 3",
   "language": "python",
   "name": "python3"
  },
  "language_info": {
   "codemirror_mode": {
    "name": "ipython",
    "version": 3
   },
   "file_extension": ".py",
   "mimetype": "text/x-python",
   "name": "python",
   "nbconvert_exporter": "python",
   "pygments_lexer": "ipython3",
   "version": "3.12.3"
  }
 },
 "nbformat": 4,
 "nbformat_minor": 5
}
